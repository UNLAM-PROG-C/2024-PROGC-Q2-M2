{
  "nbformat": 4,
  "nbformat_minor": 0,
  "metadata": {
    "colab": {
      "provenance": []
    },
    "kernelspec": {
      "name": "python3",
      "display_name": "Python 3"
    },
    "language_info": {
      "name": "python"
    }
  },
  "cells": [
    {
      "cell_type": "markdown",
      "source": [
        "# Trabajo Práctico N° 1 - Parte 2\n",
        "Integrantes:\n",
        "- Martinez Brenda Carolina\n",
        "- Fernandez Rocio Belen\n",
        "- Turello Martina Gloria\n",
        "- Forestiero Camila Julieta"
      ],
      "metadata": {
        "id": "M1_2HDomviy8"
      }
    },
    {
      "cell_type": "markdown",
      "source": [
        "##Enunciado\n",
        "\n",
        "El programa desarrollado contabiliza la cantidad de caracteres de un archivo de texto implementando threads.\n",
        "\n",
        "**Entradas:** El programa recibirá como parámetro el path al archivo de texto y un parámetro N que será la cantidad de threads a crear.\n",
        "\n",
        "**Procesamiento:** Cada thread contabilizará la cantidad de caracteres de la/s línea/s que le corresponde/n analizar y almacenará el resultado en RP (Resultado Parcial), existiendo N RP.\n",
        "\n",
        "**Salidas:** El hilo principal sumará los resultados parciales generando un RT (Resultado Total) y lo imprimirá por pantalla, así como también el tiempo insumido por el procesamiento.\n",
        "\n",
        "![TP1 - Parte 2 - Hilos.jpg](data:image/jpeg;base64,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)"
      ],
      "metadata": {
        "id": "1cMG2d4kvuZ8"
      }
    },
    {
      "cell_type": "markdown",
      "source": [
        "##Generación del Archivo de Prueba"
      ],
      "metadata": {
        "id": "uRxnCo3-Fhrn"
      }
    },
    {
      "cell_type": "markdown",
      "source": [
        "###Contenido del Archivo\n",
        "\n",
        "Creamos el archivo de texto de prueba:"
      ],
      "metadata": {
        "id": "-VJfmwXi1ICc"
      }
    },
    {
      "cell_type": "code",
      "source": [
        "%%writefile TestFile.txt\n",
        "Esta es la primera linea.\n",
        "Esta es la segunda linea.\n",
        "\n",
        "Y esta es la tercera.\n",
        "hola"
      ],
      "metadata": {
        "colab": {
          "base_uri": "https://localhost:8080/"
        },
        "id": "zzC_RK96tIOA",
        "outputId": "607bfc6b-413b-4229-d94b-6dd4eafd5aac"
      },
      "execution_count": null,
      "outputs": [
        {
          "output_type": "stream",
          "name": "stdout",
          "text": [
            "Writing TestFile.txt\n"
          ]
        }
      ]
    },
    {
      "cell_type": "code",
      "source": [
        "%%writefile TestFile2.txt\n",
        "Alicia empezaba ya a cansarse de estar sentada con su hermana a la orilla del río, sin tener nada que hacer: había echado un par de ojeadas al libro que su hermana estaba leyendo, pero no tenía dibujos ni diálogos. «¿Y de qué sirve un libro sin dibujos ni diálogos?», se preguntaba Alicia.\n",
        "Así pues, estaba pensando (y pensar le costaba cierto esfuerzo, porque el calor del día la había dejado soñolienta y atontada) si el placer de tejer una guirnalda de margaritas la compensaría del trabajo de levantarse y coger las margaritas, cuando de pronto saltó cerca de ella un Conejo Blanco de ojos rosados.\n",
        "\n",
        "No había nada muy extraordinario en esto, ni tampoco le pareció a Alicia muy extraño oír que el conejo se decía a sí mismo: «¡Dios mío! ¡Dios mío! ¡Voy a llegar tarde!» (Cuando pensó en ello después, decidió que, desde luego, hubiera debido sorprenderla mucho, pero en aquel momento le pareció lo más natural del mundo). Pero cuando el conejo se sacó un reloj de bolsillo del chaleco, lo miró y echó a correr, Alicia se levantó de un salto, porque comprendió de golpe que ella nunca había visto un conejo con chaleco, ni con reloj que sacarse de él, y, ardiendo de curiosidad, se puso a correr tras el conejo por la pradera, y llegó justo a tiempo para ver cómo se precipitaba en una madriguera que se abría al pie del seto.\n",
        "\n",
        "Un momento más tarde, Alicia se metía también en la madriguera, sin pararse a considerar cómo se las arreglaría después para salir.\n",
        "\n",
        "Al principio, la madriguera del conejo se extendía en línea recta como un túnel, y después torció bruscamente hacia abajo, tan bruscamente que Alicia no tuvo siquiera tiempo de pensar en detenerse y se encontró cayendo por lo que parecia un pozo muy profundo.\n",
        "\n",
        "O el pozo era en verdad profundo, o ella caía muy despacio, porque Alicia, mientras descendía, tuvo tiempo sobrado para mirar a su alrededor y para preguntarse qué iba a suceder después. Primero, intentó mirar hacia abajo y ver a dónde iría a parar, pero estaba todo demasiado oscuro para distinguir nada. Después miró hacia las paredes del pozo y observó que estaban cubiertas de armarios y estantes para libros: aquí y allá vio mapas y cuadros, colgados de clavos. Cogió, a su paso, un jarro de los estantes. Llevaba una etiqueta que decía: MERMELADA DE NARANJA, pero vio, con desencanto, que estaba vacío. No le pareció bien tirarlo al fondo, por miedo a matar a alguien que anduviera por abajo, y se las arregló para dejarlo en otro de los estantes mientras seguía descendiendo.\n",
        "\n",
        "«¡Vaya! », pensó Alicia. «¡Después de una caída como ésta, rodar por las escaleras me parecerá algo sin importancia! ¡Qué valiente me encontrarán todos! ¡Ni siquiera lloraría, aunque me cayera del tejado!» (Y era verdad.)\n",
        "\n",
        "Abajo, abajo, abajo. ¿No acabaría nunca de caer?\n",
        "\n",
        "–Me gustaría saber cuántas millas he descendido ya –dijo en voz alta–. Tengo que estar bastante cerca del centro de la tierra. Veamos: creo que está a cuatro mil millas de profundidad…\n",
        "\n",
        "Como veis, Alicia había aprendido algunas cosas de éstas en las clases de la escuela, y aunque no era un momento muy oportuno para presumir de sus conocimientos, ya que no había nadie allí que pudiera escucharla, le pareció que repetirlo le servía de repaso.\n",
        "\n",
        "–Sí, está debe de ser la distancia… pero me pregunto a qué latitud o longitud habré llegado.\n",
        "\n",
        "Alicia no tenía la menor idea de lo que era la latitud, ni tampoco la longitud, pero le pareció bien decir unas palabras tan bonitas e impresionantes. Enseguida volvió a empezar.\n",
        "\n",
        "–¡A lo mejor caigo a través de toda la tierra! ¡Qué divertido sería salir donde vive esta gente que anda cabeza abajo! Los antipáticos, creo… (Ahora Alicia se alegró de que no hubiera nadie escuchando, porque esta palabra no le sonaba del todo bien.) Pero entonces tendré que preguntarles el nombre del país. Por favor, señora, ¿estamos en Nueva Zelanda o en Australia?\n",
        "\n",
        "Y mientras decía estas palabras, ensayó una reverencia. ¡Reverencias mientras caía por el aire! ¿Creéis que esto es posible?\n",
        "\n",
        "–¡Y qué criaja tan ignorante voy a parecerle! No, mejor será no preguntar nada. Ya lo veré escrito en alguna parte.\n",
        "\n",
        "Abajo, abajo, abajo. No había otra cosa que hacer y Alicia empezó enseguida a hablar otra vez.\n",
        "\n",
        "–¡Temo que Dina me echará mucho de menos esta noche ! (Dina era la gata.) Espero que se acuerden de su platito de leche a la hora del té. ¡Dina, guapa, me gustaría tenerte conmigo aquí abajo! En el aire no hay ratones, claro, pero podrías cazar algún murciélago, y se parecen mucho a los ratones, sabes. Pero me pregunto: ¿comerán murciélagos los gatos?\n",
        "\n",
        "Al llegar a este punto, Alicia empezó a sentirse medio dormida y siguió diciéndose como en sueños: «¿Comen murciélagos los gatos? ¿Comen murciélagos los gatos?» Y a veces: «¿Comen gatos los murciélagos?» Porque, como no sabía contestar a ninguna de las dos preguntas, no importaba mucho cual de las dos se formulara. Se estaba durmiendo de veras y empezaba a soñar que paseaba con Dina de la mano y que le preguntaba con mucha ansiedad: «Ahora Dina, dime la verdad, ¿te has comido alguna vez un murciélago?», cuando de pronto, ¡cataplum!, fue a dar sobre un montón de ramas y hojas secas. La caída había terminado.\n",
        "\n",
        "Alicia no sufrió el menor daño, y se levantó de un salto. Miró hacia arriba, pero todo estaba oscuro. Ante ella se abría otro largo pasadizo, y alcanzó a ver en él al Conejo Blanco, que se alejaba a toda prisa. No había momento que perder, y Alicia, sin vacilar, echó a correr como el viento, y llego justo a tiempo para oírle decir, mientras doblaba un recodo:\n",
        "\n",
        "–¡Válganme mis orejas y bigotes, qué tarde se me está haciendo!\n",
        "\n",
        "Iba casi pisándole los talones, pero, cuando dobló a su vez el recodo, no vio al Conejo por ninguna parte. Se encontró en un vestíbulo amplio y bajo, iluminado por una hilera de lámparas que colgaban del techo.\n",
        "\n",
        "Habia puertas alrededor de todo el vestíbulo, pero todas estaban cerradas con llave, y cuando Alicia hubo dado la vuelta, bajando por un lado y subiendo por el otro, probando puerta a puerta, se dirigió tristemente al centro de la habitación, y se preguntó cómo se las arreglaría para salir de allí.\n",
        "\n",
        "De repente se encontró ante una mesita de tres patas, toda de cristal macizo. No había nada sobre ella, salvo una diminuta llave de oro, y lo primero que se le ocurrió a Alicia fue que debía corresponder a una de las puertas del vestíbulo. Pero, ¡ay!, o las cerraduras eran demasiado grandes, o la llave era demasiado pequeña, lo cierto es que no pudo abrir ninguna puerta. Sin embargo, al dar la vuelta por segunda vez, descubrió una cortinilla que no había visto antes, y detrás había una puertecita de unos dos palmos de altura. Probó la llave de oro en la cerradura, y vio con alegría que ajustaba bien.\n",
        "\n",
        "Alicia abrió la puerta y se encontró con que daba a un estrecho pasadizo, no más ancho que una ratonera. Se arrodilló y al otro lado del pasadizo vio el jardín más maravilloso que podáis imaginar. ¡Qué ganas tenía de salir de aquella oscura sala y de pasear entre aquellos macizos de flores multicolores y aquellas frescas fuentes! Pero ni siquiera podía pasar la cabeza por la abertura. «Y aunque pudiera pasar la cabeza», pensó la pobre Alicia, «de poco iba a servirme sin los hombros. ¡Cómo me gustaría poderme encoger como un telescopio! Creo que podría hacerlo, sólo con saber por dónde empezar.» Y es que, como veis, a Alicia le habían pasado tantas cosas extraordinarias aquel día, que había empezado a pensar que casi nada era en realidad imposible.\n",
        "\n",
        "De nada servía quedarse esperando junto a la puertecita, así que volvió a la mesa, casi con la esperanza de encontrar sobre ella otra llave, o, en todo caso, un libro de instrucciones para encoger a la gente como si fueran telescopios. Esta vez encontró en la mesa una botellita («que desde luego no estaba aquí antes», dijo Alicia), y alrededor del cuello de la botella había una etiqueta de papel con la palabra «BEBEME» hermosamente impresa en grandes caracteres.\n",
        "\n",
        "Está muy bien eso de decir «BEBEME», pero la pequeña Alicia era muy prudente y no iba a beber aqtrello por las buenas. «No, primero voy a mirar», se dijo, «para ver si lleva o no la indicación de veneno.» Porque Alicia había leído preciosos cuentos de niños que se habían quemado, o habían sido devorados por bestias feroces, u otras cosas desagradables, sólo por no haber querido recordar las sencillas normas que las personas que buscaban su bien les habían inculcado: como que un hierro al rojo te quema si no lo sueltas en seguida, o que si te cortas muy hondo en un dedo con un cuchillo suele salir sangre. Y Alicia no olvidaba nunca que, si bebes mucho de una botella que lleva la indicación «veneno», terminará, a la corta o a la larga, por hacerte daño.\n",
        "\n",
        "Sin embargo, aquella botella no llevaba la indicación «veneno», así que Alicia se atrevió a probar el contenido, y, encontrándolo muy agradable (tenía, de hecho, una mezcla de sabores a tarta de cerezas, almíbar, piña, pavo asado, caramelo y tostadas calientes con mantequilla), se lo acabó en un santiamén.\n",
        "\n",
        "–¡Qué sensación más extraña! –dijo Alicia–. Me debo estar encogiendo como un telescopio.\n",
        "\n",
        "Y así era, en efecto: ahora medía sólo veinticinco centímetros, y su cara se iluminó de alegría al pensar que tenía la talla adecuada para pasar por la puertecita y meterse en el maravilloso jardín. Primero, no obstante, esperó unos minutos para ver si seguía todavía disminuyendo de tamaño, y esta posibilidad la puso un poco nerviosa. «No vaya consumirme del todo, como una vela», se dijo para sus adentros. «¿Qué sería de mí entonces?» E intentó imaginar qué ocurría con la llama de una vela, cuando la vela estaba apagada, pues no podía recordar haber visto nunca una cosa así.\n",
        "\n",
        "Después de un rato, viendo que no pasaba nada más, decidió salir en seguida al jardín. Pero, ¡pobre Alicia!, cuando llegó a la puerta, se encontró con que había olvidado la llavecita de oro, y, cuando volvió a la mesa para recogerla, descubrió que no le era posible alcanzarla. Podía verla claramente a través del cristal, e intentó con ahínco trepar por una de las patas de la mesa, pero era demasiado resbaladiza. Y cuando se cansó de intentarlo, la pobre niña se sentó en el suelo y se echó a llorar.\n",
        "\n",
        "«¡Vamos! ¡De nada sirve llorar de esta manera!», se dijo Alicia a sí misma, con bastante firmeza. «¡Te aconsejo que dejes de llorar ahora mismo!» Alicia se daba por lo general muy buenos consejos a sí misma (aunque rara vez los seguía), y algunas veces se reñía con tanta dureza que se le saltaban las lágrimas. Se acordaba incluso de haber intentado una vez tirarse de las orejas por haberse hecho trampas en un partido de croquet que jugaba consigo misma, pues a esta curiosa criatura le gustaba mucho comportarse como si fuera dos personas a la vez. «¡Pero de nada me serviría ahora comportarme como si fuera dos personas!», pensó la pobre Alicia. «¡Cuando ya se me hace bastante difícil ser una sola persona como Dios manda!»\n",
        "\n",
        "Poco después, su mirada se posó en una cajita de cristal que había debajo de la mesa. La abrió y encontró dentro un diminuto pastelillo, en que se leía la palabra «COMEME», deliciosamente escrita con grosella. «Bueno, me lo comeré», se dijo Alicia, «y si me hace crecer, podré coger la llave, y, si me hace todavía más pequeña, podré deslizarme por debajo de la puerta. De un modo o de otro entraré en el jardín, y eso es lo que importa.»\n",
        "\n",
        "Dio un mordisquito y se preguntó nerviosísima a sí misma: «¿Hacia dónde? ¿Hacia dónde?» Al mismo tiempo, se llevó una mano a la cabeza para notar en qué dirección se iniciaba el cambio, y quedó muy sorprendida al advertir que seguía con el mismo tamaño. En realidad, esto es lo que sucede normalmente cuando se da un mordisco a un pastel, pero Alicia estaba ya tan acostumbrada a que todo lo que le sucedía fuera extraordinario, que le pareció muy aburrido y muy tonto que la vida discurriese por cauces normales.\n",
        "\n",
        "Así pues pasó a la acción, y en un santiamén dio buena cuenta del pastelito."
      ],
      "metadata": {
        "colab": {
          "base_uri": "https://localhost:8080/"
        },
        "id": "nIAl3TKv1G7X",
        "outputId": "33a70282-6840-4e3e-a468-1fc9b389450e"
      },
      "execution_count": null,
      "outputs": [
        {
          "output_type": "stream",
          "name": "stdout",
          "text": [
            "Writing TestFile2.txt\n"
          ]
        }
      ]
    },
    {
      "cell_type": "code",
      "source": [
        "%%writefile TestFileAliceInWonderland.txt\n",
        "Alicia empezaba ya a cansarse de estar sentada con su hermana a la orilla del rio, sin tener nada que hacer: habia echado un par de ojeadas al libro que su hermana estaba leyendo, pero no tenia dibujos ni dialogos. Y de que sirve un libro sin dibujos ni dialogos?, se preguntaba Alicia.\n",
        "Asi pues, estaba pensando (y pensar le costaba cierto esfuerzo, porque el calor del dia la habia dejado sonolienta y atontada) si el placer de tejer una guirnalda de margaritas la compensaria del trabajo de levantarse y coger las margaritas, cuando de pronto salto cerca de ella un Conejo Blanco de ojos rosados.\n",
        "No habia nada muy extraordinario en esto, ni tampoco le parecio a Alicia muy extrano oir que el conejo se decia a si mismo: Dios mio! Dios mio! Voy a llegar tarde! (Cuando penso en ello despues, decidio que, desde luego, hubiera debido sorprenderla mucho, pero en aquel momento le parecio lo mas natural del mundo). Pero cuando el conejo se saco un reloj de bolsillo del chaleco, lo miro y echo a correr, Alicia se levanto de un salto, porque comprendio de golpe que ella nunca habia visto un conejo con chaleco, ni con reloj que sacarse de el, y, ardiendo de curiosidad, se puso a correr tras el conejo por la pradera, y llego justo a tiempo para ver como se precipitaba en una madriguera que se abria al pie del seto.\n",
        "Un momento mas tarde, Alicia se metia tambien en la madriguera, sin pararse a considerar como se las arreglaria despues para salir.\n",
        "Al principio, la madriguera del conejo se extendia en linea recta como un tunel, y despues torcio bruscamente hacia abajo, tan bruscamente que Alicia no tuvo siquiera tiempo de pensar en detenerse y se encontro cayendo por lo que parecia un pozo muy profundo.\n",
        "O el pozo era en verdad profundo, o ella caia muy despacio, porque Alicia, mientras descendia, tuvo tiempo sobrado para mirar a su alrededor y para preguntarse que iba a suceder despues. Primero, intento mirar hacia abajo y ver a donde iria a parar, pero estaba todo demasiado oscuro para distinguir nada. Despues miro hacia las paredes del pozo y observo que estaban cubiertas de armarios y estantes para libros: aqui y alla vio mapas y cuadros, colgados de clavos. Cogio, a su paso, un jarro de los estantes. Llevaba una etiqueta que decia: MERMELADA DE NARANJA, pero vio, con desencanto, que estaba vacio. No le parecio bien tirarlo al fondo, por miedo a matar a alguien que anduviera por abajo, y se las arreglo para dejarlo en otro de los estantes mientras seguia descendiendo.\n",
        "Vaya!, penso Alicia. Despues de una caida como esta, rodar por las escaleras me parecera algo sin importancia! Que valiente me encontraran todos! Ni siquiera lloraria, aunque me cayera del tejado! (Y era verdad.)\n",
        "Abajo, abajo, abajo. No acabaria nunca de caer?\n",
        "Me gustaria saber cuantas millas he descendido ya dijo en voz alta. Tengo que estar bastante cerca del centro de la tierra. Veamos: creo que esta a cuatro mil millas de profundidad...\n",
        "Como veis, Alicia habia aprendido algunas cosas de estas en las clases de la escuela, y aunque no era un momento muy oportuno para presumir de sus conocimientos, ya que no habia nadie alli que pudiera escucharla, le parecio que repetirlo le servia de repaso.\n",
        "Si, esta debe de ser la distancia... pero me pregunto a que latitud o longitud habre llegado.\n",
        "Alicia no tenia la menor idea de lo que era la latitud, ni tampoco la longitud, pero le parecio bien decir unas palabras tan bonitas e impresionantes. Enseguida volvio a empezar.\n",
        "A lo mejor caigo a traves de toda la tierra! Que divertido seria salir donde vive esta gente que anda cabeza abajo! Los antipaticos, creo... (Ahora Alicia se alegro de que no hubiera nadie escuchando, porque esta palabra no le sonaba del todo bien.) Pero entonces tendre que preguntarles el nombre del pais. Por favor, senora, estamos en Nueva Zelanda o en Australia?\n",
        "Y mientras decia estas palabras, ensayo una reverencia. Reverencias mientras caia por el aire! Creeis que esto es posible?\n",
        "Y que criaja tan ignorante voy a parecerle! No, mejor sera no preguntar nada. Ya lo vere escrito en alguna parte.\n",
        "Abajo, abajo, abajo. No habia otra cosa que hacer y Alicia empezo enseguida a hablar otra vez.\n",
        "Temo que Dina me echara mucho de menos esta noche! (Dina era la gata.) Espero que se acuerden de su platito de leche a la hora del te. Dina, guapa, me gustaria tenerte conmigo aqui abajo! En el aire no hay ratones, claro, pero podrias cazar algun murcielago, y se parecen mucho a los ratones, sabes. Pero me pregunto: comeran murcielagos los gatos?\n",
        "Al llegar a este punto, Alicia empezo a sentirse medio dormida y siguio diciendose como en suenos: Comen murcielagos los gatos? Comen murcielagos los gatos? Y a veces: Comen gatos los murcielagos? Porque, como no sabia contestar a ninguna de las dos preguntas, no importaba mucho cual de las dos se formulara. Se estaba durmiendo de veras y empezaba a sonar que paseaba con Dina de la mano y que le preguntaba con mucha ansiedad: Ahora Dina, dime la verdad, te has comido alguna vez un murcielago?, cuando de pronto, cataplum!, fue a dar sobre un monton de ramas y hojas secas. La caida habia terminado.\n",
        "Alicia no sufrio el menor dano, y se levanto de un salto. Miro hacia arriba, pero todo estaba oscuro. Ante ella se abria otro largo pasadizo, y alcanzo a ver en el al Conejo Blanco, que se alejaba a toda prisa. No habia momento que perder, y Alicia, sin vacilar, echo a correr como el viento, y llego justo a tiempo para oirle decir, mientras doblaba un recodo:\n",
        "Valganme mis orejas y bigotes, que tarde se me esta haciendo!\n",
        "Iba casi pisandole los talones, pero, cuando doblo a su vez el recodo, no vio al Conejo por ninguna parte. Se encontro en un vestibulo amplio y bajo, iluminado por una hilera de lamparas que colgaban del techo.\n",
        "Habia puertas alrededor de todo el vestibulo, pero todas estaban cerradas con llave, y cuando Alicia hubo dado la vuelta, bajando por un lado y subiendo por el otro, probando puerta a puerta, se dirigio tristemente al centro de la habitacion, y se pregunto como se las arreglaria para salir de alli.\n",
        "De repente se encontro ante una mesita de tres patas, toda de cristal macizo. No habia nada sobre ella, salvo una diminuta llave de oro, y lo primero que se le ocurrio a Alicia fue que debia corresponder a una de las puertas del vestibulo. Pero, ay!, o las cerraduras eran demasiado grandes, o la llave era demasiado pequena, lo cierto es que no pudo abrir ninguna puerta. Sin embargo, al dar la vuelta por segunda vez, descubrio una cortinilla que no habia visto antes, y detras habia una puertecita de unos dos palmos de altura. Probo la llave de oro en la cerradura, y vio con alegria que ajustaba bien.\n",
        "Alicia abrio la puerta y se encontro con que daba a un estrecho pasadizo, no mas ancho que una ratonera. Se arrodillo y al otro lado del pasadizo vio el jardin mas maravilloso que podais imaginar. Que ganas tenia de salir de aquella oscura sala y de pasear entre aquellos macizos de flores multicolores y aquellas frescas fuentes! Pero ni siquiera podia pasar la cabeza por la abertura. Y aunque pudiera pasar la cabeza, penso la pobre Alicia, de poco iba a servirme sin los hombros. Como me gustaria poderme encoger como un telescopio! Creo que podria hacerlo, solo con saber por donde empezar. Y es que, como veis, a Alicia le habian pasado tantas cosas extraordinarias aquel dia, que habia empezado a pensar que casi nada era en realidad imposible.\n",
        "De nada servia quedarse esperando junto a la puertecita, asi que volvio a la mesa, casi con la esperanza de encontrar sobre ella otra llave, o, en todo caso, un libro de instrucciones para encoger a la gente como si fueran telescopios. Esta vez encontro en la mesa una botellita (que desde luego no estaba aqui antes, dijo Alicia), y alrededor del cuello de la botella habia una etiqueta de papel con la palabra BEBEME hermosamente impresa en grandes caracteres.\n",
        "Esta muy bien eso de decir BEBEME, pero la pequena Alicia era muy prudente y no iba a beber aqtrello por las buenas. No, primero voy a mirar, se dijo, para ver si lleva o no la indicacion de veneno. Porque Alicia habia leido preciosos cuentos de ninos que se habian quemado, o habian sido devorados por bestias feroces, u otras cosas desagradables, solo por no haber querido recordar las sencillas normas que las personas que buscaban su bien les habian inculcado: como que un hierro al rojo te quema si no lo sueltas en seguida, o que si te cortas muy hondo en un dedo con un cuchillo suele salir sangre. Y Alicia no olvidaba nunca que, si bebes mucho de una botella que lleva la indicacion veneno, terminara, a la corta o a la larga, por hacerte dano.\n",
        "Sin embargo, aquella botella no llevaba la indicacion veneno, asi que Alicia se atrevio a probar el contenido, y, encontrandolo muy agradable (tenia, de hecho, una mezcla de sabores a tarta de cerezas, almibar, pina, pavo asado, caramelo y tostadas calientes con mantequilla), se lo acabo en un santiamen.\n",
        "Que sensacion mas extrana! dijo Alicia. Me debo estar encogiendo como un telescopio.\n",
        "Y asi era, en efecto: ahora media solo veinticinco centimetros, y su cara se ilumino de alegria al pensar que tenia la talla adecuada para pasar por la puertecita y meterse en el maravilloso jardin. Primero, no obstante, espero unos minutos para ver si seguia todavia disminuyendo de tamano, y esta posibilidad la puso un poco nerviosa. No vaya consumirme del todo, como una vela, se dijo para sus adentros. Que seria de mi entonces? E intento imaginar que ocurria con la llama de una vela, cuando la vela estaba apagada, pues no podia recordar haber visto nunca una cosa asi.\n",
        "Despues de un rato, viendo que no pasaba nada mas, decidio salir en seguida al jardin. Pero, pobre Alicia!, cuando llego a la puerta, se encontro con que habia olvidado la llavecita de oro, y, cuando volvio a la mesa para recogerla, descubrio que no le era posible alcanzarla. Podia verla claramente a traves del cristal, e intento con ahinco trepar por una de las patas de la mesa, pero era demasiado resbaladiza. Y cuando se canso de intentarlo, la pobre nina se sento en el suelo y se echo a llorar.\n",
        "Vamos! De nada sirve llorar de esta manera!, se dijo Alicia a si misma, con bastante firmeza. Te aconsejo que dejes de llorar ahora mismo! Alicia se daba por lo general muy buenos consejos a si misma (aunque rara vez los seguia), y algunas veces se renia con tanta dureza que se le saltaban las lagrimas. Se acordaba incluso de haber intentado una vez tirarse de las orejas por haberse hecho trampas en un partido de croquet que jugaba consigo misma, pues a esta curiosa criatura le gustaba mucho comportarse como si fuera dos personas a la vez. Pero de nada me serviria ahora comportarme como si fuera dos personas!, penso la pobre Alicia. Cuando ya se me hace bastante dificil ser una sola persona como Dios manda!\n",
        "Poco despues, su mirada se poso en una cajita de cristal que habia debajo de la mesa. La abrio y encontro dentro un diminuto pastelillo, en que se leia la palabra COMEME, deliciosamente escrita con grosella. Bueno, me lo comere, se dijo Alicia, y si me hace crecer, podre coger la llave, y, si me hace todavia mas pequena, podre deslizarme por debajo de la puerta. De un modo o de otro entrare en el jardin, y eso es lo que importa.\n",
        "Dio un mordisquito y se pregunto nerviosisima a si misma: Hacia donde? Hacia donde? Al mismo tiempo, se llevo una mano a la cabeza para notar en que direccion se iniciaba el cambio, y quedo muy sorprendida al advertir que seguia con el mismo tamano. En realidad, esto es lo que sucede normalmente cuando se da un mordisco a un pastel, pero Alicia estaba ya tan acostumbrada a que todo lo que le sucedia fuera extraordinario, que le parecio muy aburrido y muy tonto que la vida discurriera por cauces normales.\n",
        "Asi pues paso a la accion, y en un santiamen dio buena cuenta del pastelito."
      ],
      "metadata": {
        "colab": {
          "base_uri": "https://localhost:8080/"
        },
        "id": "61OL4Fv-4eMK",
        "outputId": "d7ee746a-208b-4df6-8744-5db91e6f6382"
      },
      "execution_count": null,
      "outputs": [
        {
          "output_type": "stream",
          "name": "stdout",
          "text": [
            "Writing TestFileAliceInWonderland.txt\n"
          ]
        }
      ]
    },
    {
      "cell_type": "markdown",
      "source": [
        "###Modificación de Permisos\n",
        "\n",
        "El archivo de texto poseerá los siguientes permisos:\n",
        "*   **Propietario:** Tiene permisos de lectura (r), escritura (w) y ejecución (x).\n",
        "*   **Grupo:** No tiene permisos.\n",
        "*   **Otros Usuarios:** No tienen permisos."
      ],
      "metadata": {
        "id": "adKmvc5oFlpq"
      }
    },
    {
      "cell_type": "code",
      "source": [
        "!chmod 700 TestFile.txt"
      ],
      "metadata": {
        "id": "ecXhEwt12AJM",
        "colab": {
          "base_uri": "https://localhost:8080/"
        },
        "outputId": "b29052c8-3a81-45bd-c025-ea9dfa0ecc81"
      },
      "execution_count": null,
      "outputs": [
        {
          "output_type": "stream",
          "name": "stdout",
          "text": [
            "chmod: cannot access 'TestFile.txt': No such file or directory\n"
          ]
        }
      ]
    },
    {
      "cell_type": "markdown",
      "source": [
        "##Código en C++"
      ],
      "metadata": {
        "id": "_v0lCzcIwurh"
      }
    },
    {
      "cell_type": "markdown",
      "source": [
        "###Escritura del Código del Programa"
      ],
      "metadata": {
        "id": "oauQj71aGTpp"
      }
    },
    {
      "cell_type": "code",
      "source": [
        "%%writefile count_characters.cpp\n",
        "\n",
        "#include <iostream>\n",
        "#include <fstream>\n",
        "#include <string>\n",
        "#include <thread>\n",
        "#include <vector>\n",
        "#include <chrono>\n",
        "\n",
        "#define INITIAL_COUNT_VALUE 0\n",
        "#define FILENAME_INDEX 1\n",
        "#define NUM_THREADS_INDEX 2\n",
        "#define EMPTY_FILE 0\n",
        "#define INITIAL_POSITION 0\n",
        "#define INITIAL_THREAD_COUNT 0\n",
        "#define OK 0\n",
        "#define ERROR 1\n",
        "#define ERROR_ARCHIVO 1\n",
        "\n",
        "std::vector<int> partial_results;\n",
        "\n",
        "// Función para contar caracteres en un rango de líneas del archivo\n",
        "void count_characters(const std::vector<std::string> &lines, int ini, int stop, int partial_result_pos)\n",
        "{\n",
        "  int count = INITIAL_COUNT_VALUE;\n",
        "  for (int i = ini; i < stop; ++i)\n",
        "  {\n",
        "    count += lines[i].length();\n",
        "  }\n",
        "\n",
        "  partial_results[partial_result_pos] = count;\n",
        "}\n",
        "\n",
        "// Función para abrir y cerrar el archivo\n",
        "std::ifstream open_file(const std::string &filename)\n",
        "{\n",
        "  std::ifstream text_file(filename);\n",
        "  if (!text_file.is_open())\n",
        "  {\n",
        "    std::cout << \"No se pudo abrir el archivo.\\n\";\n",
        "    throw std::runtime_error(\"Archivo no encontrado\");\n",
        "  }\n",
        "  return text_file;\n",
        "}\n",
        "\n",
        "// Función para leer todas las líneas del archivo\n",
        "std::vector<std::string> read_lines(std::ifstream &text_file)\n",
        "{\n",
        "  std::vector<std::string> lines;\n",
        "  std::string line;\n",
        "  while (std::getline(text_file, line))\n",
        "  {\n",
        "    if (!line.empty())\n",
        "    {\n",
        "      lines.push_back(line);\n",
        "    }\n",
        "  }\n",
        "  return lines;\n",
        "}\n",
        "\n",
        "// Función para crear y lanzar los threads\n",
        "void create_threads(int num_threads, const std::vector<std::string> &lines, int num_lines)\n",
        "{\n",
        "  std::vector<std::thread> threads;\n",
        "  int lines_per_thread = num_lines / num_threads;\n",
        "  int initial_position = INITIAL_POSITION;\n",
        "\n",
        "  for (int thread_count = INITIAL_THREAD_COUNT; thread_count < num_threads; ++thread_count)\n",
        "  {\n",
        "    int last_position = (thread_count == num_threads - 1) ? num_lines : initial_position + lines_per_thread;\n",
        "    threads.push_back(std::thread(count_characters, std::ref(lines), initial_position, last_position, thread_count));\n",
        "    initial_position = last_position;\n",
        "  }\n",
        "\n",
        "  // Esperar a que terminen todos los hilos\n",
        "  for (auto &t : threads)\n",
        "  {\n",
        "    t.join();\n",
        "  }\n",
        "}\n",
        "\n",
        "// Función para sumar los resultados parciales\n",
        "int sum_partial_results(int num_threads)\n",
        "{\n",
        "  int total_result = INITIAL_COUNT_VALUE;\n",
        "  for (int i = INITIAL_THREAD_COUNT; i < num_threads; ++i)\n",
        "  {\n",
        "    total_result += partial_results[i];\n",
        "  }\n",
        "  return total_result;\n",
        "}\n",
        "\n",
        "// Función para medir el tiempo de procesamiento y mostrar el resultado\n",
        "void process_and_show_results(int total_result, std::chrono::high_resolution_clock::time_point start_time)\n",
        "{\n",
        "  auto finish_time = std::chrono::high_resolution_clock::now();\n",
        "  std::chrono::duration<double, std::milli> processing_time = finish_time - start_time;\n",
        "\n",
        "  std::cout << \"Cantidad de caracteres del archivo: \" << total_result << std::endl;\n",
        "  std::cout << \"Tiempo de procesamiento: \" << processing_time.count() << \" ms\" << std::endl;\n",
        "}\n",
        "\n",
        "int main(int argc, char *argv[])\n",
        "{\n",
        "  std::string filename = argv[FILENAME_INDEX];\n",
        "  int num_threads = std::stoi(argv[NUM_THREADS_INDEX]);\n",
        "\n",
        "  std::ifstream text_file;\n",
        "  try\n",
        "  {\n",
        "    text_file = open_file(filename);\n",
        "  }\n",
        "  catch (const std::exception &e)\n",
        "  {\n",
        "    return ERROR_ARCHIVO;\n",
        "  }\n",
        "\n",
        "  std::vector<std::string> lines = read_lines(text_file);\n",
        "  text_file.close();\n",
        "\n",
        "  int num_lines = lines.size();\n",
        "  if (num_lines == EMPTY_FILE)\n",
        "  {\n",
        "    std::cout << \"El archivo está vacío o no contiene líneas válidas.\\n\";\n",
        "    return OK;\n",
        "  }\n",
        "  partial_results.resize(num_threads, INITIAL_COUNT_VALUE);\n",
        "  auto start_time = std::chrono::high_resolution_clock::now();\n",
        "  create_threads(num_threads, lines, num_lines);\n",
        "  int total_result = sum_partial_results(num_threads);\n",
        "  process_and_show_results(total_result, start_time);\n",
        "\n",
        "  return OK;\n",
        "}\n"
      ],
      "metadata": {
        "id": "-0V6jpovvt1e",
        "colab": {
          "base_uri": "https://localhost:8080/"
        },
        "outputId": "9e4de101-3dec-48b5-a8ad-3db5acb0bd35"
      },
      "execution_count": null,
      "outputs": [
        {
          "output_type": "stream",
          "name": "stdout",
          "text": [
            "Overwriting count_characters.cpp\n"
          ]
        }
      ]
    },
    {
      "cell_type": "markdown",
      "source": [
        "###Compilación del Programa"
      ],
      "metadata": {
        "id": "VPjIVJb0Gd9w"
      }
    },
    {
      "cell_type": "code",
      "source": [
        "!g++ -std=c++11 count_characters.cpp -o count_characters -pthread"
      ],
      "metadata": {
        "id": "_Fwhqb3m0M3P"
      },
      "execution_count": null,
      "outputs": []
    },
    {
      "cell_type": "markdown",
      "source": [
        "###Ejecución del Programa"
      ],
      "metadata": {
        "id": "7an6unxzGf54"
      }
    },
    {
      "cell_type": "code",
      "source": [
        "!./count_characters TestFileAliceInWonderland.txt 25"
      ],
      "metadata": {
        "colab": {
          "base_uri": "https://localhost:8080/"
        },
        "id": "xrjZhd2R0zZ5",
        "outputId": "9f221e9a-7b5e-4fc0-e382-2e835ac062fe"
      },
      "execution_count": null,
      "outputs": [
        {
          "output_type": "stream",
          "name": "stdout",
          "text": [
            "Cantidad de caracteres del archivo: 11810\n",
            "Tiempo de procesamiento: 4.76907 ms\n"
          ]
        }
      ]
    },
    {
      "cell_type": "markdown",
      "source": [
        "##Código en Python"
      ],
      "metadata": {
        "id": "lJLjf1kjw0td"
      }
    },
    {
      "cell_type": "markdown",
      "source": [
        "###Escritura del Código del Programa"
      ],
      "metadata": {
        "id": "n_CpL_98Gb9B"
      }
    },
    {
      "cell_type": "code",
      "execution_count": null,
      "metadata": {
        "id": "qP-skICfqBbD",
        "colab": {
          "base_uri": "https://localhost:8080/"
        },
        "outputId": "81f040e3-c31e-47c8-eb42-868672d7dc0f"
      },
      "outputs": [
        {
          "output_type": "stream",
          "name": "stdout",
          "text": [
            "Writing count_characters.py\n"
          ]
        }
      ],
      "source": [
        "%%writefile count_characters.py\n",
        "\n",
        "import threading\n",
        "import time\n",
        "import sys\n",
        "\n",
        "INITIAL_COUNT_VALUE = 0\n",
        "FILENAME_INDEX = 1\n",
        "NUM_THREADS_INDEX = 2\n",
        "EMPTY_FILE = 0\n",
        "INITIAL_POSITION = 0\n",
        "INITIAL_THREAD_COUNT = 0\n",
        "OK = 0\n",
        "ERROR = 1\n",
        "\n",
        "# Lista del contenido del archivo\n",
        "lines = []\n",
        "\n",
        "# Lista de resultados parciales\n",
        "partial_results = []\n",
        "\n",
        "def open_file(filename):\n",
        "    try:\n",
        "        text_file = open(filename, 'r')\n",
        "        return text_file\n",
        "    except FileNotFoundError:\n",
        "        print(\"No se pudo abrir el archivo.\")\n",
        "        sys.exit(ERROR)\n",
        "\n",
        "def read_lines(text_file):\n",
        "    global lines\n",
        "    for line in text_file:\n",
        "        line = line.strip()\n",
        "        if line:\n",
        "            lines.append(line)\n",
        "    text_file.close()\n",
        "\n",
        "def initialize_partial_results(num_threads):\n",
        "    global partial_results\n",
        "    partial_results = [INITIAL_COUNT_VALUE] * num_threads\n",
        "\n",
        "def count_characters(ini, stop, partial_result_pos):\n",
        "    count = INITIAL_COUNT_VALUE\n",
        "    for i in range(ini, stop):\n",
        "        count += len(lines[i])\n",
        "\n",
        "    partial_results[partial_result_pos] = count\n",
        "\n",
        "def create_threads(num_threads, num_lines):\n",
        "    threads = []\n",
        "    lines_per_thread = num_lines // num_threads\n",
        "    initial_position = INITIAL_POSITION\n",
        "\n",
        "    for thread_count in range(num_threads):\n",
        "        last_position = num_lines if thread_count == num_threads - 1 else initial_position + lines_per_thread\n",
        "        thread = threading.Thread(target=count_characters, args=(initial_position, last_position, thread_count))\n",
        "        threads.append(thread)\n",
        "        thread.start()\n",
        "        initial_position = last_position\n",
        "\n",
        "    # Esperar a que terminen todos los hilos\n",
        "    for thread in threads:\n",
        "        thread.join()\n",
        "def sum_partial_results(num_threads):\n",
        "    total_result = INITIAL_COUNT_VALUE\n",
        "    for i in range(num_threads):\n",
        "        total_result += partial_results[i]\n",
        "    return total_result\n",
        "\n",
        "def measure_time(start_time):\n",
        "    finish_time = time.time()\n",
        "    processing_time = (finish_time - start_time) * 1000\n",
        "    return processing_time\n",
        "\n",
        "def main():\n",
        "    filename = sys.argv[FILENAME_INDEX]\n",
        "    num_threads = int(sys.argv[NUM_THREADS_INDEX])\n",
        "    text_file = open_file(filename)\n",
        "    read_lines(text_file)\n",
        "    num_lines = len(lines)\n",
        "    if num_lines == EMPTY_FILE:\n",
        "        print(\"El archivo está vacío o no contiene líneas válidas.\")\n",
        "        return OK\n",
        "\n",
        "    initialize_partial_results(num_threads)\n",
        "    start_time = time.time()\n",
        "    create_threads(num_threads, num_lines)\n",
        "    total_result = sum_partial_results(num_threads)\n",
        "    processing_time = measure_time(start_time)\n",
        "    print(\"Cantidad de caracteres del archivo:\", total_result)\n",
        "    print(\"Tiempo de procesamiento:\", processing_time, \"ms\")\n",
        "    return OK\n",
        "\n",
        "if __name__ == '__main__':\n",
        "    main()"
      ]
    },
    {
      "cell_type": "markdown",
      "source": [],
      "metadata": {
        "id": "MLEj83xLEC2Q"
      }
    },
    {
      "cell_type": "markdown",
      "source": [
        "###Ejecución del Programa"
      ],
      "metadata": {
        "id": "-DdzxpLMGi4T"
      }
    },
    {
      "cell_type": "code",
      "source": [
        "!python3 count_characters.py TestFileAliceInWonderland.txt 25"
      ],
      "metadata": {
        "colab": {
          "base_uri": "https://localhost:8080/"
        },
        "id": "0mJXfw5U6I74",
        "outputId": "03d82cc3-7a2c-4c4e-d88f-6ce8f4d4fc55"
      },
      "execution_count": null,
      "outputs": [
        {
          "output_type": "stream",
          "name": "stdout",
          "text": [
            "Cantidad de caracteres del archivo: 11810\n",
            "Tiempo de procesamiento: 2.7985572814941406 ms\n"
          ]
        }
      ]
    },
    {
      "cell_type": "markdown",
      "source": [
        "##Código en Java"
      ],
      "metadata": {
        "id": "Pdz1vdhRw2Zf"
      }
    },
    {
      "cell_type": "markdown",
      "source": [
        "###Escritura del Código del Programa"
      ],
      "metadata": {
        "id": "oUVe5abuHKau"
      }
    },
    {
      "cell_type": "code",
      "source": [
        "%%writefile CountCharacters.java\n",
        "\n",
        "import java.io.IOException;\n",
        "import java.io.BufferedReader;\n",
        "import java.io.FileReader;\n",
        "import java.util.ArrayList;\n",
        "import java.util.List;\n",
        "\n",
        "public class CountCharacters\n",
        "{\n",
        "  private static final int INITIAL_COUNT_VALUE = 0;\n",
        "  private static final int FILENAME_INDEX = 0;\n",
        "  private static final int NUM_THREADS_INDEX = 1;\n",
        "  private static final int EMPTY_FILE = 0;\n",
        "  private static final int INITIAL_POSITION = 0;\n",
        "  private static final int INITIAL_THREAD_COUNT = 0;\n",
        "  private static final int OK = 0;\n",
        "  private static final int ERROR = 1;\n",
        "\n",
        "  // Lista del contenido del archivo\n",
        "  private static List<String> lines = new ArrayList<>();\n",
        "\n",
        "  // Vector de resultados parciales\n",
        "  private static int partialResults[];\n",
        "\n",
        "  public static class CharacterCounterThread extends Thread\n",
        "  {\n",
        "    private int ini;\n",
        "    private int stop;\n",
        "    private int partialResultPos;\n",
        "\n",
        "    public CharacterCounterThread(int ini, int stop, int partialResultPos)\n",
        "    {\n",
        "      this.ini = ini;\n",
        "      this.stop = stop;\n",
        "      this.partialResultPos = partialResultPos;\n",
        "    }\n",
        "\n",
        "    @Override\n",
        "    public void run()\n",
        "    {\n",
        "      countCharactersInRange(ini, stop, partialResultPos);\n",
        "    }\n",
        "  }\n",
        "\n",
        "  private static void countCharactersInRange(int ini, int stop, int partialResultPos)\n",
        "  {\n",
        "    int count = INITIAL_COUNT_VALUE;\n",
        "    for (int i = ini; i < stop; ++i)\n",
        "    {\n",
        "      count += lines.get(i).length();\n",
        "    }\n",
        "\n",
        "    partialResults[partialResultPos] = count;\n",
        "  }\n",
        "\n",
        "  private static List<String> readLinesFromFile(String filename)\n",
        "  {\n",
        "    List<String> lines = new ArrayList<>();\n",
        "    try (BufferedReader fileReader = new BufferedReader(new FileReader(filename)))\n",
        "    {\n",
        "      String line;\n",
        "      while ((line = fileReader.readLine()) != null)\n",
        "      {\n",
        "        if (!line.trim().isEmpty())\n",
        "        {\n",
        "          lines.add(line);\n",
        "        }\n",
        "      }\n",
        "    }\n",
        "    catch (IOException e)\n",
        "    {\n",
        "      System.out.println(\"No se pudo abrir el archivo.\");\n",
        "      System.exit(ERROR);\n",
        "    }\n",
        "    return lines;\n",
        "  }\n",
        "\n",
        "  private static int calculateTotalResult(int numThreads)\n",
        "  {\n",
        "    int totalResult = INITIAL_COUNT_VALUE;\n",
        "    for (int i = INITIAL_THREAD_COUNT; i < numThreads; i++)\n",
        "    {\n",
        "      totalResult += partialResults[i];\n",
        "    }\n",
        "    return totalResult;\n",
        "  }\n",
        "\n",
        "  private static void startThreads(int numThreads, int numLines) throws InterruptedException\n",
        "  {\n",
        "    CharacterCounterThread[] threads = new CharacterCounterThread[numThreads];\n",
        "    int linesPerThread = numLines / numThreads;\n",
        "    int initialPosition = INITIAL_POSITION;\n",
        "\n",
        "    for (int threadCount = INITIAL_THREAD_COUNT; threadCount < numThreads; threadCount++)\n",
        "    {\n",
        "      int lastPosition = (threadCount == numThreads - 1) ? numLines : initialPosition + linesPerThread;\n",
        "      threads[threadCount] = new CharacterCounterThread(initialPosition, lastPosition, threadCount);\n",
        "      threads[threadCount].start();\n",
        "      initialPosition = lastPosition;\n",
        "    }\n",
        "\n",
        "    for (CharacterCounterThread thread : threads)\n",
        "    {\n",
        "      thread.join();\n",
        "    }\n",
        "  }\n",
        "\n",
        "  private static void printResults(int totalResult, double processingTime)\n",
        "  {\n",
        "    System.out.println(\"Cantidad de caracteres del archivo: \" + totalResult);\n",
        "    System.out.println(\"Tiempo de procesamiento: \" + processingTime + \" ms\");\n",
        "  }\n",
        "\n",
        "  public static void main(String[] args) throws InterruptedException\n",
        "  {\n",
        "    String filename = args[FILENAME_INDEX];\n",
        "    int numThreads = Integer.parseInt(args[NUM_THREADS_INDEX]);\n",
        "    lines = readLinesFromFile(filename);\n",
        "    int numLines = lines.size();\n",
        "    if (numLines == EMPTY_FILE)\n",
        "    {\n",
        "      System.out.println(\"El archivo está vacío o no contiene líneas válidas.\");\n",
        "      System.exit(OK);\n",
        "    }\n",
        "    partialResults = new int[numThreads];\n",
        "    double startTime = System.nanoTime() / 1_000_000.0;\n",
        "    startThreads(numThreads, numLines);\n",
        "    int totalResult = calculateTotalResult(numThreads);\n",
        "    double finishTime = System.nanoTime() / 1_000_000.0;\n",
        "    double processingTime = finishTime - startTime;\n",
        "    printResults(totalResult, processingTime);\n",
        "\n",
        "    System.exit(OK);\n",
        "  }\n",
        "}"
      ],
      "metadata": {
        "colab": {
          "base_uri": "https://localhost:8080/"
        },
        "id": "MzVPC0MvHl3N",
        "outputId": "5bbb14f5-e095-493b-b8bc-1c775508020b"
      },
      "execution_count": null,
      "outputs": [
        {
          "output_type": "stream",
          "name": "stdout",
          "text": [
            "Overwriting CountCharacters.java\n"
          ]
        }
      ]
    },
    {
      "cell_type": "markdown",
      "source": [
        "###Compilación del Programa"
      ],
      "metadata": {
        "id": "SykwToUNHLVf"
      }
    },
    {
      "cell_type": "code",
      "source": [
        "!javac CountCharacters.java"
      ],
      "metadata": {
        "id": "1L0gWUIgHMG8"
      },
      "execution_count": null,
      "outputs": []
    },
    {
      "cell_type": "markdown",
      "source": [
        "###Ejecución del Programa"
      ],
      "metadata": {
        "id": "pv4_9ILzHMY1"
      }
    },
    {
      "cell_type": "code",
      "source": [
        "!java CountCharacters TestFileAliceInWonderland.txt 25"
      ],
      "metadata": {
        "colab": {
          "base_uri": "https://localhost:8080/"
        },
        "id": "_3v5ZUWHHNHZ",
        "outputId": "be64d08f-2d7f-4bd2-989d-5124034e1758"
      },
      "execution_count": null,
      "outputs": [
        {
          "output_type": "stream",
          "name": "stdout",
          "text": [
            "Cantidad de caracteres del archivo: 11810\n",
            "Tiempo de procesamiento: 6.288913999916986 ms\n"
          ]
        }
      ]
    },
    {
      "cell_type": "markdown",
      "source": [
        "#  Comparaciones entre tiempos de ejecucion"
      ],
      "metadata": {
        "id": "-RRJMrF5qlA9"
      }
    },
    {
      "cell_type": "markdown",
      "source": [
        "## TestFileAliceInWonderland (Archivo sin caracteres especiales)\n",
        "\n",
        "###Toma de Tiempos: Tabla Comparativa\n",
        "\n",
        "| N   | C++       | Python  | Java  |\n",
        "|-----|-----------|---------|-------|\n",
        "| 1   |   1,4455  | 0,2298  | 7.0299|\n",
        "| L/2 |   2,1563  | 1,6675  | 9.374|\n",
        "| L   |   2.2159  | 2.0183  | 8.6866|"
      ],
      "metadata": {
        "id": "j-I2WV5X7eNY"
      }
    },
    {
      "cell_type": "markdown",
      "source": [
        "#Conclusiones\n",
        "\n",
        "###En términos de código\n",
        "Al momento de codear, notamos una mayor simplicidad y cercanía al lenguaje natural en Python, lo que hace que sea más amigable y fácil de leer. A diferencia de C++ y Java, que requieren más detalle en la gestión de memoria y tipos de datos, Python permite concentrarse en la lógica sin preocuparse tanto por aspectos de bajo nivel, como la declaración explícita de tipos. Lo que hacía que sea mucho más amigable codear.\n",
        "\n",
        "###En términos de eficiencia\n",
        "El hecho de que el código en Python sea el más rápido nos sorprendió, ya que consideramos que es algo inusual en general, debido a que Python no es conocido por su rendimiento en comparación a C++ y Java. Esto podría estar relacionado con la forma en que se maneja la concurrencia y las entradas y salidas. Buscando información, encontramos que Python tiene muy optimizada la lectura y escritura de archivos.\n",
        "\n",
        "Por otro lado, teníamos pensado que C++ iba a ser el más rápido, ya que suele ser el más eficiente en procesamiento debido a su bajo nivel de abstracción, optimizaciones del compilador y falta de sobrecarga del recolector de basura (como en Java). Si bien en tiempo terminó siendo más rápido que Java, el hecho de que Python lo supere podría deberse a la implementación de hilos y los posibles cuellos de botella. También podría haberle sumado tiempo de ejecución que las bibliotecas estándares para el manejo de archivos no están tan optimizadas para este tipo de operaciones concurrentes.\n",
        "\n",
        "El hecho de que el código en Java terminó siendo el más lento podría estar relacionado con la sobreacarga de la Java Virtual Machine y del garbage collector. La JVM introduce una capa más de abstracción, lo que puede hacer que sea más lento en comparación a lenguajes compilados a código máquina como C++. Luego, el garbage collector introduce pausas que no existen en C++ y Python.\n",
        "Para que su ejecución sea más eficiente, evitamos el uso de un Mutex para prevenir bloqueos. A pesar de ser una región crítica, cada hilo accede a una posición distinta del mismo, por lo que no sucederán bloqueos en el acceso a la memoria y se asegurará la integridad de los datos.\n",
        "\n",
        "###Dificultades encontradas\n",
        "Un detalle que tuvimos al programar con Java fue que, al no dejarnos sobreescribir el método run con argumentos de entrada, tuvimos que crear un constructor y agregarle atributos a la clase. Hicimos esto porque nos resultó más sencillo e intuitivo heredar de la clase Thread y hacer un override del método run, respecto de implementar la interface runnable y el método run.\n",
        "Por otro lado, al probar un archivo de texto con caracteres especiales, C++ contaba caracteres de más. Creemos que es el .length de C++ que toma los bytes y no soporta cuando son caracteres especiales, ya que ocupan más de 1 byte, por ejemplo cuenta dos caracteres cuando en realidad es una ñ. Por eso dejamos los dos \"tipos\" de archivos.\n",
        "\n"
      ],
      "metadata": {
        "id": "LFP5p8JIG4h3"
      }
    }
  ]
}