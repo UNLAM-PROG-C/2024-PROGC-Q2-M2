{
  "cells": [
    {
      "cell_type": "markdown",
      "metadata": {
        "id": "M1_2HDomviy8"
      },
      "source": [
        "# Trabajo Práctico N° 1 - Parte 3\n",
        "Integrantes:\n",
        "- Martinez Brenda Carolina\n",
        "- Fernandez Rocio Belen\n",
        "- Turello Martina Gloria\n",
        "- Forestiero Camila Julieta"
      ]
    },
    {
      "cell_type": "markdown",
      "metadata": {
        "id": "1cMG2d4kvuZ8"
      },
      "source": [
        "## Enunciado\n",
        "Dados los siguientes enunciados, elija un lenguaje (C++, Python y Java) para cada uno de ellos y\n",
        "codifíquelos. Cabe aclarar que no se puede repetir el lenguaje entre enunciados.\n",
        "\n",
        "a) Una empresa desea optimizar el espacio utilizado en el edificio donde opera, para esto planean\n",
        "tener un solo baño con capacidad para tres (3) empleados, pero dado que actualmente su plantilla\n",
        "de empleados se compone de hombres y mujeres, la empresa quiere garantizar que en el baño no se\n",
        "encuentren hombres y mujeres al mismo tiempo.\n",
        "Desarrolle un programa que implemente el funcionamiento de dicho baño utilizando algún método\n",
        "de comunicación y/o sincronización.\n",
        "\n",
        "b) En una reserva natural sudafricana existe un profundo cañón, los babuinos del lugar utilizan una\n",
        "cuerda atada en ambos extremos para cruzar de un lado al otro. La cuerda es lo suficientemente\n",
        "fuerte como para soportar a cinco (5) babuinos colgados al mismo tiempo, de superar esa cantidad\n",
        "la cuerda se romperá. Por razones desconocidas si dos babuinos que van en direcciones opuestas se\n",
        "encuentran en medio del cruce, estos se ponen a pelear hasta que alguno cae al vacío.\n",
        "Desarrolle un programa utilizando algún método de comunicación y/o sincronización que represente\n",
        "el cruce de los babuinos garantizando que ninguno muera.\n",
        "\n",
        "c) En un supermercado existen dos (2) repositores que reponen los productos de una góndola con\n",
        "capacidad máxima de diez (10) productos, dichos repositores trabajan con alternancia estricta, es\n",
        "decir que una vez repone uno, luego el otro y así sucesivamente. También existen N clientes que van\n",
        "tomando los productos de las góndolas (1 a 2 productos de manera aleatoria). Cuando la góndola se\n",
        "vacía, el repositor repone la totalidad de productos. Cabe destacar que mientras se están reponiendo los productos, los clientes no pueden tomarlos, así como también si un cliente no obtuvo\n",
        "la cantidad de productos que necesitaba, esperará hasta que la góndola se complete.\n",
        "Desarrolle un programa utilizando algún método de comunicación y/o sincronización que represente\n",
        "el funcionamiento anteriormente planteado para un número N de clientes donde N será pasado\n",
        "como parámetro al programa."
      ]
    },
    {
      "cell_type": "markdown",
      "metadata": {
        "id": "1CEFDp-YYY-I"
      },
      "source": [
        "##Elección de Lenguajes\n",
        "\n",
        "###Ejercicio A: Baño de Empresa\n",
        "Java fue elegido para este enunciado debido a que posee una gran capacidad para gestionar hilos y exclusión mutua con facilidad, superando a Python en rendimiento y siendo más sencillo que C++ para este tipo de problema.\n",
        "\n",
        "###Ejercicio B: Cruce de Babuinos\n",
        "C++ fue elegido para este enunciado ya que se necesita un control detallado y eficiente de la concurrencia y los recursos. Este lenguaje sobresale frente a Python, el cual se encuentra limitado por el Global Interpreter Lock (GIL), y a Java, ya que C++ permite una interacción más directa con el hardware, lo que garantiza un rendimiento óptimo.\n",
        "\n",
        "###Ejercicio C: Reposición de Productos\n",
        "Python fue seleccionado para este enunciado por su simplicidad y facilidad para manejar sincronización en escenarios donde no se requiere un paralelismo extremo. En comparación, ofrece mayor rapidez y facilidad de desarrollo que C++, y es más conciso que Java, lo que lo hace ideal para resolver problemas con menor complejidad técnica."
      ]
    },
    {
      "cell_type": "markdown",
      "metadata": {
        "id": "Pdz1vdhRw2Zf"
      },
      "source": [
        "##Ejercicio A: Baño de Empresa"
      ]
    },
    {
      "cell_type": "markdown",
      "metadata": {
        "id": "oUVe5abuHKau"
      },
      "source": [
        "###Escritura del Código del Programa"
      ]
    },
    {
      "cell_type": "code",
      "execution_count": 3,
      "metadata": {
        "colab": {
          "base_uri": "https://localhost:8080/"
        },
        "id": "MzVPC0MvHl3N",
        "outputId": "5f205a70-cff3-480f-e93e-3a5852d7fed4"
      },
      "outputs": [
        {
          "output_type": "stream",
          "name": "stdout",
          "text": [
            "Overwriting Bano.java\n"
          ]
        }
      ],
      "source": [
        "%%writefile Bano.java\n",
        "import java.util.concurrent.Semaphore;\n",
        "import java.util.LinkedList;\n",
        "import java.util.Queue;\n",
        "\n",
        "class Bano\n",
        "{\n",
        "  private static int NoCapacidad = 0;\n",
        "  private static int InicioContadorCola = 1;\n",
        "  private static int BanoVacio = 0;\n",
        "\n",
        "  private int capacidad = 3;\n",
        "  private Semaphore semaforoCapacidad = new Semaphore(capacidad, true);\n",
        "  private Semaphore semaforoGenero = new Semaphore(1, true);\n",
        "  private String generoEnUso = \"\";\n",
        "  private int contadorPersonaBano = 0;\n",
        "  private Queue<Empleado> colaEspera = new LinkedList<>();\n",
        "\n",
        "  public synchronized void entrarAlBano(Empleado empleado) throws InterruptedException\n",
        "  {\n",
        "    String nombre = empleado.getNombre();\n",
        "    String genero = empleado.getGenero();\n",
        "\n",
        "    System.out.println(nombre + \" (\" + genero + \") intenta entrar al baño\");\n",
        "\n",
        "    if (!colaEspera.contains(empleado))\n",
        "    {\n",
        "      colaEspera.add(empleado);\n",
        "      System.out.println(nombre + \" (\" + genero + \") ha sido agregado a la cola de espera.\");\n",
        "      int numero = InicioContadorCola;\n",
        "      for (Empleado emp : colaEspera)\n",
        "      {\n",
        "        System.out.println(\"\\t[\" + numero + \"| \" + emp.getNombre() + \" (\" + emp.getGenero() + \")]\");\n",
        "        numero++;\n",
        "      }\n",
        "    }\n",
        "\n",
        "    while ((!generoEnUso.isEmpty() && !generoEnUso.equals(genero)) || semaforoCapacidad.availablePermits() == NoCapacidad || colaEspera.peek() != empleado)\n",
        "    {\n",
        "      wait();\n",
        "    }\n",
        "\n",
        "    colaEspera.remove();\n",
        "    System.out.println(nombre + \" (\" + genero + \") ha sido removido de la cola de espera.\");\n",
        "    int numero = InicioContadorCola;\n",
        "    for (Empleado emp : colaEspera)\n",
        "    {\n",
        "      System.out.println(\"\\t[\" + numero + \"| \" + emp.getNombre() + \" (\" + emp.getGenero() + \")]\");\n",
        "      numero++;\n",
        "    }\n",
        "\n",
        "    if (generoEnUso.isEmpty())\n",
        "    {\n",
        "      semaforoGenero.acquire();\n",
        "      generoEnUso = genero;\n",
        "      System.out.println(nombre + \" (\" + genero + \") ha entrado al baño. Solo puede haber \" + genero + \" hasta que salga.\");\n",
        "    }\n",
        "\n",
        "    semaforoCapacidad.acquire();\n",
        "    contadorPersonaBano++;\n",
        "    System.out.println(nombre + \" (\" + genero + \") ha entrado al baño. Espacios restantes: \" + semaforoCapacidad.availablePermits());\n",
        "  }\n",
        "\n",
        "  public synchronized void salirDelBano(String nombre, String genero)\n",
        "  {\n",
        "    semaforoCapacidad.release();\n",
        "    contadorPersonaBano--;\n",
        "    System.out.println(nombre + \" (\" + genero + \") ha salido del baño. Espacios restantes: \" + semaforoCapacidad.availablePermits());\n",
        "\n",
        "    if (contadorPersonaBano == BanoVacio)\n",
        "    {\n",
        "      generoEnUso = \"\";\n",
        "      System.out.println(\"El baño está vacío. No hay nadie más en el baño. Ya se puede cambiar de género.\");\n",
        "      semaforoGenero.release();\n",
        "    }\n",
        "\n",
        "    notifyAll();\n",
        "  }\n",
        "}\n",
        "\n",
        "class Empleado implements Runnable\n",
        "{\n",
        "\n",
        "  private static int tiempoEnBano = 1000;\n",
        "\n",
        "  private Bano bano;\n",
        "  private String nombre;\n",
        "  private String genero;\n",
        "\n",
        "  public Empleado(Bano bano, String nombre, String genero)\n",
        "  {\n",
        "    this.bano = bano;\n",
        "    this.nombre = nombre;\n",
        "    this.genero = genero;\n",
        "  }\n",
        "\n",
        "  public String getNombre()\n",
        "  {\n",
        "    return nombre;\n",
        "  }\n",
        "\n",
        "  public String getGenero()\n",
        "  {\n",
        "    return genero;\n",
        "  }\n",
        "\n",
        "  @Override\n",
        "  public void run()\n",
        "  {\n",
        "    try\n",
        "    {\n",
        "      bano.entrarAlBano(this);\n",
        "      Thread.sleep((int) (Math.random() * tiempoEnBano));\n",
        "      bano.salirDelBano(nombre, genero);\n",
        "    }\n",
        "    catch (InterruptedException e)\n",
        "    {\n",
        "      e.printStackTrace();\n",
        "    }\n",
        "  }\n",
        "}"
      ]
    },
    {
      "cell_type": "code",
      "execution_count": 4,
      "metadata": {
        "colab": {
          "base_uri": "https://localhost:8080/"
        },
        "id": "NPCDvPZcbZgO",
        "outputId": "a10749b5-7e1e-45d9-d852-a94596fb300b"
      },
      "outputs": [
        {
          "output_type": "stream",
          "name": "stdout",
          "text": [
            "Overwriting Main.java\n"
          ]
        }
      ],
      "source": [
        "%%writefile Main.java\n",
        "import java.util.ArrayList;\n",
        "import java.util.List;\n",
        "import java.util.Random;\n",
        "\n",
        "public class Main\n",
        "{\n",
        "\n",
        "  private static int semilla = 5;\n",
        "\n",
        "  public static void main(String[] args)\n",
        "  {\n",
        "    Bano bano = new Bano();\n",
        "\n",
        "    List<String> nombresHombres = new ArrayList<>(List.of(\"Daro\", \"Matias\", \"Esteban\", \"Maximo\", \"Mariano\", \"Messi\", \"Duki\", \"Diego\", \"Victor\", \"Fran\", \"Pato\"));\n",
        "    List<String> nombresMujeres = new ArrayList<>(List.of(\"Martu\", \"Ro\", \"Bren\", \"Cami\", \"Shakira\", \"Pampita\", \"Nicky\", \"Luz\", \"Emilia\"));\n",
        "\n",
        "    Random random = new Random();\n",
        "    int cantidadEmpleados = random.nextInt(semilla) + semilla;\n",
        "\n",
        "    Thread[] empleados = new Thread[cantidadEmpleados];\n",
        "    for (int i = 0; i < empleados.length; i++)\n",
        "    {\n",
        "      String genero = random.nextBoolean() ? \"Hombre\" : \"Mujer\";\n",
        "      String nombre;\n",
        "\n",
        "      if (genero.equals(\"Hombre\") && !nombresHombres.isEmpty())\n",
        "      {\n",
        "        nombre = nombresHombres.remove(random.nextInt(nombresHombres.size()));\n",
        "      }\n",
        "      else if (genero.equals(\"Mujer\") && !nombresMujeres.isEmpty())\n",
        "      {\n",
        "        nombre = nombresMujeres.remove(random.nextInt(nombresMujeres.size()));\n",
        "      }\n",
        "      else\n",
        "      {\n",
        "        System.out.println(\"No hay suficientes nombres disponibles.\");\n",
        "        break;\n",
        "      }\n",
        "\n",
        "      empleados[i] = new Thread(new Empleado(bano, nombre, genero));\n",
        "      empleados[i].start();\n",
        "    }\n",
        "\n",
        "    for (Thread empleado : empleados)\n",
        "    {\n",
        "      try\n",
        "      {\n",
        "        empleado.join();\n",
        "      }\n",
        "      catch (InterruptedException e)\n",
        "      {\n",
        "        e.printStackTrace();\n",
        "      }\n",
        "    }\n",
        "  }\n",
        "}"
      ]
    },
    {
      "cell_type": "markdown",
      "metadata": {
        "id": "SykwToUNHLVf"
      },
      "source": [
        "###Compilación del Programa"
      ]
    },
    {
      "cell_type": "code",
      "execution_count": 5,
      "metadata": {
        "id": "1L0gWUIgHMG8"
      },
      "outputs": [],
      "source": [
        "!javac Bano.java\n",
        "!javac Main.java"
      ]
    },
    {
      "cell_type": "markdown",
      "metadata": {
        "id": "pv4_9ILzHMY1"
      },
      "source": [
        "###Ejecución del Programa"
      ]
    },
    {
      "cell_type": "code",
      "execution_count": 6,
      "metadata": {
        "colab": {
          "base_uri": "https://localhost:8080/"
        },
        "id": "_3v5ZUWHHNHZ",
        "outputId": "5d8554f3-07fb-4c35-94d8-615c1871deb9"
      },
      "outputs": [
        {
          "output_type": "stream",
          "name": "stdout",
          "text": [
            "Maximo (Hombre) intenta entrar al baño\n",
            "Maximo (Hombre) ha sido agregado a la cola de espera.\n",
            "\t[1| Maximo (Hombre)]\n",
            "Maximo (Hombre) ha sido removido de la cola de espera.\n",
            "Maximo (Hombre) ha entrado al baño. Solo puede haber Hombre hasta que salga.\n",
            "Maximo (Hombre) ha entrado al baño. Espacios restantes: 2\n",
            "Martu (Mujer) intenta entrar al baño\n",
            "Martu (Mujer) ha sido agregado a la cola de espera.\n",
            "\t[1| Martu (Mujer)]\n",
            "Pampita (Mujer) intenta entrar al baño\n",
            "Pampita (Mujer) ha sido agregado a la cola de espera.\n",
            "\t[1| Martu (Mujer)]\n",
            "\t[2| Pampita (Mujer)]\n",
            "Nicky (Mujer) intenta entrar al baño\n",
            "Nicky (Mujer) ha sido agregado a la cola de espera.\n",
            "\t[1| Martu (Mujer)]\n",
            "\t[2| Pampita (Mujer)]\n",
            "\t[3| Nicky (Mujer)]\n",
            "Emilia (Mujer) intenta entrar al baño\n",
            "Emilia (Mujer) ha sido agregado a la cola de espera.\n",
            "\t[1| Martu (Mujer)]\n",
            "\t[2| Pampita (Mujer)]\n",
            "\t[3| Nicky (Mujer)]\n",
            "\t[4| Emilia (Mujer)]\n",
            "Victor (Hombre) intenta entrar al baño\n",
            "Victor (Hombre) ha sido agregado a la cola de espera.\n",
            "\t[1| Martu (Mujer)]\n",
            "\t[2| Pampita (Mujer)]\n",
            "\t[3| Nicky (Mujer)]\n",
            "\t[4| Emilia (Mujer)]\n",
            "\t[5| Victor (Hombre)]\n",
            "Bren (Mujer) intenta entrar al baño\n",
            "Bren (Mujer) ha sido agregado a la cola de espera.\n",
            "\t[1| Martu (Mujer)]\n",
            "\t[2| Pampita (Mujer)]\n",
            "\t[3| Nicky (Mujer)]\n",
            "\t[4| Emilia (Mujer)]\n",
            "\t[5| Victor (Hombre)]\n",
            "\t[6| Bren (Mujer)]\n",
            "Maximo (Hombre) ha salido del baño. Espacios restantes: 3\n",
            "El baño está vacío. No hay nadie más en el baño. Ya se puede cambiar de género.\n",
            "Martu (Mujer) ha sido removido de la cola de espera.\n",
            "\t[1| Pampita (Mujer)]\n",
            "\t[2| Nicky (Mujer)]\n",
            "\t[3| Emilia (Mujer)]\n",
            "\t[4| Victor (Hombre)]\n",
            "\t[5| Bren (Mujer)]\n",
            "Martu (Mujer) ha entrado al baño. Solo puede haber Mujer hasta que salga.\n",
            "Martu (Mujer) ha entrado al baño. Espacios restantes: 2\n",
            "Pampita (Mujer) ha sido removido de la cola de espera.\n",
            "\t[1| Nicky (Mujer)]\n",
            "\t[2| Emilia (Mujer)]\n",
            "\t[3| Victor (Hombre)]\n",
            "\t[4| Bren (Mujer)]\n",
            "Pampita (Mujer) ha entrado al baño. Espacios restantes: 1\n",
            "Pampita (Mujer) ha salido del baño. Espacios restantes: 2\n",
            "Nicky (Mujer) ha sido removido de la cola de espera.\n",
            "\t[1| Emilia (Mujer)]\n",
            "\t[2| Victor (Hombre)]\n",
            "\t[3| Bren (Mujer)]\n",
            "Nicky (Mujer) ha entrado al baño. Espacios restantes: 1\n",
            "Emilia (Mujer) ha sido removido de la cola de espera.\n",
            "\t[1| Victor (Hombre)]\n",
            "\t[2| Bren (Mujer)]\n",
            "Emilia (Mujer) ha entrado al baño. Espacios restantes: 0\n",
            "Martu (Mujer) ha salido del baño. Espacios restantes: 1\n",
            "Nicky (Mujer) ha salido del baño. Espacios restantes: 2\n",
            "Emilia (Mujer) ha salido del baño. Espacios restantes: 3\n",
            "El baño está vacío. No hay nadie más en el baño. Ya se puede cambiar de género.\n",
            "Victor (Hombre) ha sido removido de la cola de espera.\n",
            "\t[1| Bren (Mujer)]\n",
            "Victor (Hombre) ha entrado al baño. Solo puede haber Hombre hasta que salga.\n",
            "Victor (Hombre) ha entrado al baño. Espacios restantes: 2\n",
            "Victor (Hombre) ha salido del baño. Espacios restantes: 3\n",
            "El baño está vacío. No hay nadie más en el baño. Ya se puede cambiar de género.\n",
            "Bren (Mujer) ha sido removido de la cola de espera.\n",
            "Bren (Mujer) ha entrado al baño. Solo puede haber Mujer hasta que salga.\n",
            "Bren (Mujer) ha entrado al baño. Espacios restantes: 2\n",
            "Bren (Mujer) ha salido del baño. Espacios restantes: 3\n",
            "El baño está vacío. No hay nadie más en el baño. Ya se puede cambiar de género.\n"
          ]
        }
      ],
      "source": [
        "!java Main"
      ]
    },
    {
      "cell_type": "markdown",
      "metadata": {
        "id": "_v0lCzcIwurh"
      },
      "source": [
        "##Ejercicio B: Cruce de Babuinos"
      ]
    },
    {
      "cell_type": "markdown",
      "metadata": {
        "id": "oauQj71aGTpp"
      },
      "source": [
        "###Escritura del Código del Programa"
      ]
    },
    {
      "cell_type": "code",
      "execution_count": 10,
      "metadata": {
        "colab": {
          "base_uri": "https://localhost:8080/"
        },
        "id": "-0V6jpovvt1e",
        "outputId": "9f06db2f-f235-43a8-edd1-1e329003ccf0"
      },
      "outputs": [
        {
          "output_type": "stream",
          "name": "stdout",
          "text": [
            "Overwriting cruce.cpp\n"
          ]
        }
      ],
      "source": [
        "%%writefile cruce.cpp\n",
        "#include <iostream>\n",
        "#include <thread>\n",
        "#include <mutex>\n",
        "#include <condition_variable>\n",
        "#include <chrono>\n",
        "\n",
        "const int MAX_BABOONS = 5;\n",
        "const int TOTAL_BABOONS = 10;\n",
        "const int LEFT_TO_RIGHT = 1;\n",
        "const int RIGHT_TO_LEFT = 2;\n",
        "const int MIN_CROSSING_TIME = 1;\n",
        "const int MAX_CROSSING_TIME = 3;\n",
        "const int DIRECTION_START_INDEX = 0;\n",
        "const int DIRECTION_OFFSET = 1;\n",
        "const int DIRECTION_MODIFIER = 2;\n",
        "const int NO_CROSSING_BABOONS = 0;\n",
        "const int OK = 0;\n",
        "\n",
        "class Semaphore\n",
        "{\n",
        "  public:\n",
        "    Semaphore(int count = NO_CROSSING_BABOONS) : count_(count) {}\n",
        "\n",
        "    void acquire()\n",
        "    {\n",
        "      std::unique_lock<std::mutex> lock(mtx_);\n",
        "      cv_.wait(lock, [this]()\n",
        "        { return count_ > NO_CROSSING_BABOONS; });\n",
        "      --count_;\n",
        "    }\n",
        "\n",
        "    void release()\n",
        "    {\n",
        "      std::unique_lock<std::mutex> lock(mtx_);\n",
        "      ++count_;\n",
        "      cv_.notify_one();\n",
        "    }\n",
        "\n",
        "  private:\n",
        "    std::mutex mtx_;\n",
        "    std::condition_variable cv_;\n",
        "    int count_;\n",
        "};\n",
        "\n",
        "std::mutex mtx;\n",
        "std::condition_variable cv;\n",
        "Semaphore sem(MAX_BABOONS);\n",
        "int crossing_baboons = 0;\n",
        "int direction = 0;\n",
        "\n",
        "std::mutex print_mtx;\n",
        "\n",
        "void acquire_rope(int dir)\n",
        "{\n",
        "  std::unique_lock<std::mutex> lock(mtx);\n",
        "  while (crossing_baboons > NO_CROSSING_BABOONS && direction != dir)\n",
        "  {\n",
        "    cv.wait(lock);\n",
        "  }\n",
        "\n",
        "  direction = dir;\n",
        "\n",
        "  sem.acquire();\n",
        "\n",
        "  crossing_baboons++;\n",
        "}\n",
        "\n",
        "void release_rope()\n",
        "{\n",
        "  std::unique_lock<std::mutex> lock(mtx);\n",
        "  crossing_baboons--;\n",
        "  if (crossing_baboons == NO_CROSSING_BABOONS)\n",
        "  {\n",
        "    direction = DIRECTION_START_INDEX;\n",
        "    cv.notify_all();\n",
        "  }\n",
        "\n",
        "  sem.release();\n",
        "}\n",
        "\n",
        "void simulate_crossing(int id, int dir)\n",
        "{\n",
        "\n",
        "  std::lock_guard<std::mutex> lock(print_mtx);\n",
        "  std::cout << \"Babuino \" << id << \" está cruzando en dirección \" << (dir == LEFT_TO_RIGHT ? \"izquierda a derecha\" : \"derecha a izquierda\") << std::endl;\n",
        "\n",
        "  std::this_thread::sleep_for(std::chrono::seconds(MIN_CROSSING_TIME + rand() % MAX_CROSSING_TIME));\n",
        "\n",
        "  std::cout << \"Babuino \" << id << \" terminó de cruzar.\" << std::endl;\n",
        "}\n",
        "\n",
        "void baboon_cross(int id, int dir)\n",
        "{\n",
        "  acquire_rope(dir);\n",
        "  simulate_crossing(id, dir);\n",
        "  release_rope();\n",
        "}\n",
        "\n",
        "int main()\n",
        "{\n",
        "  srand(time(0));\n",
        "\n",
        "  std::thread baboons[TOTAL_BABOONS];\n",
        "\n",
        "  for (int i = DIRECTION_START_INDEX; i < TOTAL_BABOONS; i++)\n",
        "  {\n",
        "    int dir = (i % DIRECTION_MODIFIER) + DIRECTION_OFFSET;\n",
        "    baboons[i] = std::thread(baboon_cross, i, dir);\n",
        "  }\n",
        "\n",
        "  for (int i = DIRECTION_START_INDEX; i < TOTAL_BABOONS; i++)\n",
        "  {\n",
        "    baboons[i].join();\n",
        "  }\n",
        "\n",
        "  return OK;\n",
        "}"
      ]
    },
    {
      "cell_type": "markdown",
      "metadata": {
        "id": "VPjIVJb0Gd9w"
      },
      "source": [
        "###Compilación del Programa"
      ]
    },
    {
      "cell_type": "code",
      "execution_count": 11,
      "metadata": {
        "id": "_Fwhqb3m0M3P"
      },
      "outputs": [],
      "source": [
        "!g++ -std=c++11 -o cruce cruce.cpp"
      ]
    },
    {
      "cell_type": "markdown",
      "metadata": {
        "id": "7an6unxzGf54"
      },
      "source": [
        "###Ejecución del Programa"
      ]
    },
    {
      "cell_type": "code",
      "execution_count": 12,
      "metadata": {
        "id": "YDbVV7LiItkG",
        "colab": {
          "base_uri": "https://localhost:8080/"
        },
        "outputId": "4f77ee82-0099-4be2-eddc-b54fcd11789a"
      },
      "outputs": [
        {
          "output_type": "stream",
          "name": "stdout",
          "text": [
            "Babuino 1 está cruzando en dirección derecha a izquierda\n",
            "Babuino 1 terminó de cruzar.\n",
            "Babuino 3 está cruzando en dirección derecha a izquierda\n",
            "Babuino 3 terminó de cruzar.\n",
            "Babuino 9 está cruzando en dirección derecha a izquierda\n",
            "Babuino 9 terminó de cruzar.\n",
            "Babuino 7 está cruzando en dirección derecha a izquierda\n",
            "Babuino 7 terminó de cruzar.\n",
            "Babuino 5 está cruzando en dirección derecha a izquierda\n",
            "Babuino 5 terminó de cruzar.\n",
            "Babuino 8 está cruzando en dirección izquierda a derecha\n",
            "Babuino 8 terminó de cruzar.\n",
            "Babuino 0 está cruzando en dirección izquierda a derecha\n",
            "Babuino 0 terminó de cruzar.\n",
            "Babuino 6 está cruzando en dirección izquierda a derecha\n",
            "Babuino 6 terminó de cruzar.\n",
            "Babuino 4 está cruzando en dirección izquierda a derecha\n",
            "Babuino 4 terminó de cruzar.\n",
            "Babuino 2 está cruzando en dirección izquierda a derecha\n",
            "Babuino 2 terminó de cruzar.\n"
          ]
        }
      ],
      "source": [
        "!./cruce"
      ]
    },
    {
      "cell_type": "markdown",
      "metadata": {
        "id": "lJLjf1kjw0td"
      },
      "source": [
        "##Ejercicio C: Reposición de Productos"
      ]
    },
    {
      "cell_type": "markdown",
      "metadata": {
        "id": "n_CpL_98Gb9B"
      },
      "source": [
        "###Escritura del Código del Programa"
      ]
    },
    {
      "cell_type": "code",
      "source": [
        "%%writefile ejercicioC.py\n",
        "import threading\n",
        "import random\n",
        "import time\n",
        "import sys\n",
        "\n",
        "ARG_CANT_CLIENTES = 1\n",
        "CAPACIDAD_GONDOLA = 10\n",
        "CANT_REPOSITORES = 2\n",
        "TIEMPO_REPOSICION = 1\n",
        "TIEMPO_TOMA_PRODUCTO = 1\n",
        "\n",
        "productos_en_gondola = CAPACIDAD_GONDOLA\n",
        "turno_repositor = 1\n",
        "fin_supermercado = False\n",
        "\n",
        "mutex_gondola = threading.Lock()\n",
        "cond_gondola = threading.Condition(mutex_gondola)\n",
        "\n",
        "def reponer_productos(nro_repositor):\n",
        "  global productos_en_gondola, turno_repositor, fin_supermercado\n",
        "\n",
        "  while True:\n",
        "    with cond_gondola:\n",
        "      while (productos_en_gondola > 0 or turno_repositor != nro_repositor) and not fin_supermercado:\n",
        "        cond_gondola.wait()\n",
        "      if fin_supermercado:\n",
        "        break\n",
        "      print(f\"Repositor {nro_repositor} va a reponer la góndola\")\n",
        "      time.sleep(TIEMPO_REPOSICION)\n",
        "      productos_en_gondola = CAPACIDAD_GONDOLA\n",
        "      print(\"La góndola ha sido rellenada completamente.\")\n",
        "      turno_repositor = (turno_repositor % CANT_REPOSITORES) + 1\n",
        "      cond_gondola.notify_all()\n",
        "\n",
        "def comprar(nro_cliente):\n",
        "  global productos_en_gondola\n",
        "\n",
        "  print(f\"Cliente {nro_cliente} ha ingresado a comprar.\")\n",
        "  productos_a_tomar = random.randint(1, 2)\n",
        "  productos_tomados = 0\n",
        "\n",
        "  while productos_tomados < productos_a_tomar:\n",
        "    with cond_gondola:\n",
        "      while productos_en_gondola == 0:\n",
        "        print(f\"Cliente {nro_cliente} detecta la góndola vacía y espera.\")\n",
        "        cond_gondola.notify_all()\n",
        "        cond_gondola.wait()\n",
        "      productos_en_gondola -= 1\n",
        "      print(f\"Cliente {nro_cliente} tomó un producto. Productos restantes: {productos_en_gondola}\")\n",
        "    productos_tomados += 1\n",
        "    time.sleep(TIEMPO_TOMA_PRODUCTO)\n",
        "\n",
        "  print(f\"Cliente {nro_cliente} ha terminado su compra y se va.\")\n",
        "\n",
        "def supermercado(cantidad_de_clientes):\n",
        "  global fin_supermercado\n",
        "\n",
        "  hilo_repositor1 = threading.Thread(target=reponer_productos, args=(1,))\n",
        "  hilo_repositor2 = threading.Thread(target=reponer_productos, args=(2,))\n",
        "  hilo_repositor1.start()\n",
        "  hilo_repositor2.start()\n",
        "\n",
        "  hilos_clientes = [threading.Thread(target=comprar, args=(i,)) for i in range(1, cantidad_de_clientes + 1)]\n",
        "  for h in hilos_clientes:\n",
        "    h.start()\n",
        "\n",
        "  for h in hilos_clientes:\n",
        "    h.join()\n",
        "\n",
        "  global fin_supermercado\n",
        "  fin_supermercado = True\n",
        "  with cond_gondola:\n",
        "    cond_gondola.notify_all()\n",
        "\n",
        "  hilo_repositor1.join()\n",
        "  hilo_repositor2.join()\n",
        "  print(\"Fin de la compra\")\n",
        "\n",
        "if __name__ == \"__main__\":\n",
        "  cantidad_de_clientes = int(sys.argv[ARG_CANT_CLIENTES])\n",
        "  supermercado(cantidad_de_clientes)"
      ],
      "metadata": {
        "colab": {
          "base_uri": "https://localhost:8080/"
        },
        "id": "ybjjpyCndnKB",
        "outputId": "7dc497fb-c652-47d6-ec52-21c88dd2cb1c"
      },
      "execution_count": 15,
      "outputs": [
        {
          "output_type": "stream",
          "name": "stdout",
          "text": [
            "Overwriting ejercicioC.py\n"
          ]
        }
      ]
    },
    {
      "cell_type": "markdown",
      "metadata": {
        "id": "-DdzxpLMGi4T"
      },
      "source": [
        "###Ejecución del Programa"
      ]
    },
    {
      "cell_type": "code",
      "execution_count": 17,
      "metadata": {
        "colab": {
          "base_uri": "https://localhost:8080/"
        },
        "id": "0mJXfw5U6I74",
        "outputId": "f34a3750-9eb7-494a-d93a-198ca9eea469"
      },
      "outputs": [
        {
          "output_type": "stream",
          "name": "stdout",
          "text": [
            "Cliente 1 ha ingresado a comprar.\n",
            "Cliente 1 tomó un producto. Productos restantes: 9\n",
            "Cliente 2 ha ingresado a comprar.\n",
            "Cliente 2 tomó un producto. Productos restantes: 8\n",
            "Cliente 3 ha ingresado a comprar.\n",
            "Cliente 3 tomó un producto. Productos restantes: 7\n",
            "Cliente 4 ha ingresado a comprar.\n",
            "Cliente 4 tomó un producto. Productos restantes: 6\n",
            "Cliente 5 ha ingresado a comprar.\n",
            "Cliente 5 tomó un producto. Productos restantes: 5\n",
            "Cliente 6 ha ingresado a comprar.\n",
            "Cliente 6 tomó un producto. Productos restantes: 4\n",
            "Cliente 7 ha ingresado a comprar.\n",
            "Cliente 7 tomó un producto. Productos restantes: 3\n",
            "Cliente 8 ha ingresado a comprar.\n",
            "Cliente 8 tomó un producto. Productos restantes: 2\n",
            "Cliente 9 ha ingresado a comprar.\n",
            "Cliente 9 tomó un producto. Productos restantes: 1\n",
            "Cliente 10 ha ingresado a comprar.\n",
            "Cliente 10 tomó un producto. Productos restantes: 0\n",
            "Cliente 11 ha ingresado a comprar.\n",
            "Cliente 11 detecta la góndola vacía y espera.\n",
            "Cliente 12 ha ingresado a comprar.\n",
            "Cliente 12 detecta la góndola vacía y espera.\n",
            "Cliente 11 detecta la góndola vacía y espera.\n",
            "Cliente 12 detecta la góndola vacía y espera.\n",
            "Cliente 11 detecta la góndola vacía y espera.\n",
            "Cliente 12 detecta la góndola vacía y espera.\n",
            "Cliente 11 detecta la góndola vacía y espera.\n",
            "Cliente 12 detecta la góndola vacía y espera.\n",
            "Cliente 11 detecta la góndola vacía y espera.\n",
            "Cliente 12 detecta la góndola vacía y espera.\n",
            "Cliente 11 detecta la góndola vacía y espera.\n",
            "Cliente 12 detecta la góndola vacía y espera.\n",
            "Cliente 11 detecta la góndola vacía y espera.\n",
            "Cliente 12 detecta la góndola vacía y espera.\n",
            "Cliente 11 detecta la góndola vacía y espera.\n",
            "Cliente 12 detecta la góndola vacía y espera.\n",
            "Cliente 11 detecta la góndola vacía y espera.\n",
            "Cliente 12 detecta la góndola vacía y espera.\n",
            "Cliente 11 detecta la góndola vacía y espera.\n",
            "Cliente 12 detecta la góndola vacía y espera.\n",
            "Cliente 11 detecta la góndola vacía y espera.\n",
            "Cliente 12 detecta la góndola vacía y espera.\n",
            "Cliente 11 detecta la góndola vacía y espera.\n",
            "Cliente 12 detecta la góndola vacía y espera.\n",
            "Cliente 11 detecta la góndola vacía y espera.\n",
            "Cliente 12 detecta la góndola vacía y espera.\n",
            "Cliente 11 detecta la góndola vacía y espera.\n",
            "Cliente 12 detecta la góndola vacía y espera.\n",
            "Cliente 11 detecta la góndola vacía y espera.\n",
            "Cliente 12 detecta la góndola vacía y espera.\n",
            "Cliente 11 detecta la góndola vacía y espera.\n",
            "Cliente 12 detecta la góndola vacía y espera.\n",
            "Cliente 11 detecta la góndola vacía y espera.\n",
            "Cliente 12 detecta la góndola vacía y espera.\n",
            "Cliente 11 detecta la góndola vacía y espera.\n",
            "Cliente 12 detecta la góndola vacía y espera.\n",
            "Cliente 11 detecta la góndola vacía y espera.\n",
            "Cliente 12 detecta la góndola vacía y espera.\n",
            "Cliente 11 detecta la góndola vacía y espera.\n",
            "Cliente 12 detecta la góndola vacía y espera.\n",
            "Cliente 11 detecta la góndola vacía y espera.\n",
            "Cliente 12 detecta la góndola vacía y espera.\n",
            "Cliente 11 detecta la góndola vacía y espera.\n",
            "Cliente 12 detecta la góndola vacía y espera.\n",
            "Cliente 11 detecta la góndola vacía y espera.\n",
            "Cliente 12 detecta la góndola vacía y espera.\n",
            "Cliente 11 detecta la góndola vacía y espera.\n",
            "Cliente 12 detecta la góndola vacía y espera.\n",
            "Cliente 11 detecta la góndola vacía y espera.\n",
            "Cliente 12 detecta la góndola vacía y espera.\n",
            "Cliente 11 detecta la góndola vacía y espera.\n",
            "Cliente 12 detecta la góndola vacía y espera.\n",
            "Cliente 11 detecta la góndola vacía y espera.\n",
            "Cliente 12 detecta la góndola vacía y espera.\n",
            "Cliente 11 detecta la góndola vacía y espera.\n",
            "Cliente 12 detecta la góndola vacía y espera.\n",
            "Cliente 11 detecta la góndola vacía y espera.\n",
            "Cliente 12 detecta la góndola vacía y espera.\n",
            "Cliente 11 detecta la góndola vacía y espera.\n",
            "Cliente 12 detecta la góndola vacía y espera.\n",
            "Cliente 11 detecta la góndola vacía y espera.\n",
            "Cliente 12 detecta la góndola vacía y espera.\n",
            "Cliente 11 detecta la góndola vacía y espera.\n",
            "Cliente 12 detecta la góndola vacía y espera.\n",
            "Cliente 11 detecta la góndola vacía y espera.\n",
            "Cliente 12 detecta la góndola vacía y espera.\n",
            "Cliente 11 detecta la góndola vacía y espera.\n",
            "Cliente 12 detecta la góndola vacía y espera.\n",
            "Cliente 11 detecta la góndola vacía y espera.\n",
            "Cliente 12 detecta la góndola vacía y espera.\n",
            "Cliente 11 detecta la góndola vacía y espera.\n",
            "Cliente 12 detecta la góndola vacía y espera.\n",
            "Cliente 11 detecta la góndola vacía y espera.\n",
            "Cliente 12 detecta la góndola vacía y espera.\n",
            "Cliente 11 detecta la góndola vacía y espera.\n",
            "Repositor 1 va a reponer la góndola\n",
            "Cliente 13 ha ingresado a comprar.\n",
            "Cliente 14 ha ingresado a comprar.\n",
            "Cliente 15 ha ingresado a comprar.\n",
            "Cliente 16 ha ingresado a comprar.\n",
            "Cliente 17 ha ingresado a comprar.\n",
            "Cliente 18 ha ingresado a comprar.\n",
            "Cliente 19 ha ingresado a comprar.\n",
            "Cliente 20 ha ingresado a comprar.\n",
            "Cliente 5 ha terminado su compra y se va.\n",
            "Cliente 7 ha terminado su compra y se va.\n",
            "Cliente 8 ha terminado su compra y se va.\n",
            "La góndola ha sido rellenada completamente.\n",
            "Cliente 11 tomó un producto. Productos restantes: 9\n",
            "Cliente 14 tomó un producto. Productos restantes: 8\n",
            "Cliente 15 tomó un producto. Productos restantes: 7\n",
            "Cliente 16 tomó un producto. Productos restantes: 6\n",
            "Cliente 17 tomó un producto. Productos restantes: 5\n",
            "Cliente 18 tomó un producto. Productos restantes: 4\n",
            "Cliente 19 tomó un producto. Productos restantes: 3\n",
            "Cliente 20 tomó un producto. Productos restantes: 2\n",
            "Cliente 3 tomó un producto. Productos restantes: 1\n",
            "Cliente 2 tomó un producto. Productos restantes: 0\n",
            "Cliente 6 detecta la góndola vacía y espera.\n",
            "Cliente 4 detecta la góndola vacía y espera.\n",
            "Cliente 6 detecta la góndola vacía y espera.\n",
            "Cliente 9 detecta la góndola vacía y espera.\n",
            "Cliente 6 detecta la góndola vacía y espera.\n",
            "Cliente 9 detecta la góndola vacía y espera.\n",
            "Cliente 6 detecta la góndola vacía y espera.\n",
            "Repositor 2 va a reponer la góndola\n",
            "Cliente 2 ha terminado su compra y se va.\n",
            "Cliente 16 ha terminado su compra y se va.\n",
            "Cliente 18 ha terminado su compra y se va.\n",
            "Cliente 3 ha terminado su compra y se va.\n",
            "Cliente 20 ha terminado su compra y se va.\n",
            "La góndola ha sido rellenada completamente.\n",
            "Cliente 17 ha terminado su compra y se va.\n",
            "Cliente 15 ha terminado su compra y se va.\n",
            "Cliente 4 tomó un producto. Productos restantes: 9\n",
            "Cliente 10 tomó un producto. Productos restantes: 8\n",
            "Cliente 12 tomó un producto. Productos restantes: 7\n",
            "Cliente 13 tomó un producto. Productos restantes: 6\n",
            "Cliente 9 tomó un producto. Productos restantes: 5\n",
            "Cliente 11 tomó un producto. Productos restantes: 4\n",
            "Cliente 19 tomó un producto. Productos restantes: 3\n",
            "Cliente 14 tomó un producto. Productos restantes: 2\n",
            "Cliente 1 tomó un producto. Productos restantes: 1\n",
            "Cliente 6 tomó un producto. Productos restantes: 0\n",
            "Cliente 4 ha terminado su compra y se va.\n",
            "Cliente 14 ha terminado su compra y se va.\n",
            "Cliente 11 ha terminado su compra y se va.\n",
            "Cliente 9 ha terminado su compra y se va.\n",
            "Cliente 1 ha terminado su compra y se va.\n",
            "Cliente 6 ha terminado su compra y se va.\n",
            "Cliente 10 ha terminado su compra y se va.\n",
            "Cliente 13 detecta la góndola vacía y espera.\n",
            "Cliente 19 ha terminado su compra y se va.\n",
            "Cliente 12 detecta la góndola vacía y espera.\n",
            "Repositor 1 va a reponer la góndola\n",
            "La góndola ha sido rellenada completamente.\n",
            "Cliente 13 tomó un producto. Productos restantes: 9\n",
            "Cliente 12 tomó un producto. Productos restantes: 8\n",
            "Cliente 12 ha terminado su compra y se va.\n",
            "Cliente 13 ha terminado su compra y se va.\n",
            "Fin de la compra\n"
          ]
        }
      ],
      "source": [
        "!python3 ejercicioC.py 20"
      ]
    },
    {
      "cell_type": "markdown",
      "metadata": {
        "id": "LFP5p8JIG4h3"
      },
      "source": [
        "#Conclusiones\n",
        "\n",
        "El desarrollo de este trabajo práctico permitió una valiosa comparación entre los lenguajes C++, Java y Python en el contexto de problemas de comunicación y sincronización. Se trató de una excelente oportunidad para comparar los tres lenguajes, analizando cuál era la mejor opción en cada uno de los tres ejercicios planteados, pertenecientes a distintos contextos y buscando diferentes soluciones.\n",
        "\n",
        "En el ejercicio del baño de la empresa, realizado con Java, enfrentamos desafíos relacionados con la gestión de acceso al baño, particularmente en lo que respecta a la correcta implementación de una cola de personas y la lógica de género. Inicialmente, el género que ingresaba primero monopolizaba el acceso al baño, lo que nos obligó a reformular la lógica para que se respetara el orden de la fila, independientemente del género. También sucedía que no se respetaba el orden de aparición de la persona, por lo que las personas ingresaban al baño de forma aleatoria, motivo que resultó en la implementación de una cola de personas.\n",
        "\n",
        "En el ejercicio del cruce de babuinos, desarrollado con C++, la implementación de un mutex fue clave para evitar la desorganización en los mensajes de anuncio de los babuinos cruzando y finalizando su cruce, lo que nos permitió sincronizar correctamente los hilos y mejorar la claridad en la visualización de los resultados.\n",
        "\n",
        "En el ejercicio de reposición de productos, implementado con Python, al intentar implementar la solución con semáforos, enfrentamos dificultades para sincronizar adecuadamente el acceso a la góndola y gestionar las señales de reposición. Un problema recurrente fue que, si varios clientes llegaban mientras la góndola estaba vacía, se enviaban múltiples señales de reposición, lo que provocaba una sobrecarga innecesaria. Además, en algunas situaciones, un cliente podía tomar productos mientras se estaba realizando la reposición, lo cual es incorrecto según las especificaciones del enunciado. Finalmente, resolvimos estos problemas investigando e implementando diversas herramientas proporcionadas por el lenguaje y sus bibliotecas, logrando una sincronización eficiente y un comportamiento correcto."
      ]
    }
  ],
  "metadata": {
    "colab": {
      "collapsed_sections": [
        "VPjIVJb0Gd9w"
      ],
      "provenance": []
    },
    "kernelspec": {
      "display_name": "Python 3",
      "name": "python3"
    },
    "language_info": {
      "name": "python"
    }
  },
  "nbformat": 4,
  "nbformat_minor": 0
}